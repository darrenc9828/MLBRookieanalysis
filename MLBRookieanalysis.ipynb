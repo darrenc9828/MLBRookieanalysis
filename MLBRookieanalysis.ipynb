{
 "cells": [
  {
   "cell_type": "code",
   "execution_count": 23,
   "metadata": {},
   "outputs": [],
   "source": [
    "# importing pandas mondule to minuplating data\n",
    "import pandas as pd\n"
   ]
  },
  {
   "cell_type": "code",
   "execution_count": 40,
   "metadata": {},
   "outputs": [
    {
     "name": "stdout",
     "output_type": "stream",
     "text": [
      "    playerID  yearID  stint teamID lgID   G   AB   R   H  2B  ...   RBI    SB  \\\n",
      "0  abercda01    1871      1    TRO  NaN   1    4   0   0   0  ...   0.0   0.0   \n",
      "1   addybo01    1871      1    RC1  NaN  25  118  30  32   6  ...  13.0   8.0   \n",
      "2  allisar01    1871      1    CL1  NaN  29  137  28  40   4  ...  19.0   3.0   \n",
      "3  allisdo01    1871      1    WS3  NaN  27  133  28  44  10  ...  27.0   1.0   \n",
      "4  ansonca01    1871      1    RC1  NaN  25  120  29  39  11  ...  16.0   6.0   \n",
      "5  armstbo01    1871      1    FW1  NaN  12   49   9  11   2  ...   5.0   0.0   \n",
      "6  barkeal01    1871      1    RC1  NaN   1    4   0   1   0  ...   2.0   0.0   \n",
      "7  barnero01    1871      1    BS1  NaN  31  157  66  63  10  ...  34.0  11.0   \n",
      "8  barrebi01    1871      1    FW1  NaN   1    5   1   1   1  ...   1.0   0.0   \n",
      "9  barrofr01    1871      1    BS1  NaN  18   86  13  13   2  ...  11.0   1.0   \n",
      "\n",
      "    CS  BB   SO  IBB  HBP  SH  SF  GIDP  \n",
      "0  0.0   0  0.0  NaN  NaN NaN NaN   0.0  \n",
      "1  1.0   4  0.0  NaN  NaN NaN NaN   0.0  \n",
      "2  1.0   2  5.0  NaN  NaN NaN NaN   1.0  \n",
      "3  1.0   0  2.0  NaN  NaN NaN NaN   0.0  \n",
      "4  2.0   2  1.0  NaN  NaN NaN NaN   0.0  \n",
      "5  1.0   0  1.0  NaN  NaN NaN NaN   0.0  \n",
      "6  0.0   1  0.0  NaN  NaN NaN NaN   0.0  \n",
      "7  6.0  13  1.0  NaN  NaN NaN NaN   1.0  \n",
      "8  0.0   0  0.0  NaN  NaN NaN NaN   0.0  \n",
      "9  0.0   0  0.0  NaN  NaN NaN NaN   0.0  \n",
      "\n",
      "[10 rows x 22 columns]\n"
     ]
    }
   ],
   "source": [
    "df = pd.read_csv('batting.csv')\n",
    "\n",
    "\n",
    "\n",
    "print(df.head(10))\n"
   ]
  }
 ],
 "metadata": {
  "kernelspec": {
   "display_name": "Python 3.10.4 64-bit",
   "language": "python",
   "name": "python3"
  },
  "language_info": {
   "codemirror_mode": {
    "name": "ipython",
    "version": 3
   },
   "file_extension": ".py",
   "mimetype": "text/x-python",
   "name": "python",
   "nbconvert_exporter": "python",
   "pygments_lexer": "ipython3",
   "version": "3.10.4"
  },
  "orig_nbformat": 4,
  "vscode": {
   "interpreter": {
    "hash": "f1510b3a92008b3f5070fd021fb191c959973f7530ec2caf7a69a1c32cf53c3e"
   }
  }
 },
 "nbformat": 4,
 "nbformat_minor": 2
}
